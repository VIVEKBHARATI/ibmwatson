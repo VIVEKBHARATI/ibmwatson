{
    "cells": [
        {
            "cell_type": "markdown",
            "metadata": {},
            "source": "# My Jupyter Notebook on IBM Watson Studio"
        },
        {
            "cell_type": "markdown",
            "metadata": {},
            "source": "**Vivek** \nData Analytics Student"
        },
        {
            "cell_type": "markdown",
            "metadata": {},
            "source": "*I am interested in data science because I want to be a part of growing Ml/AI community and contribute to self driving cars,making internet a safe place for everyone, better accessibility services in digital devices etc.*"
        },
        {
            "cell_type": "markdown",
            "metadata": {},
            "source": "### how to import libraries"
        },
        {
            "cell_type": "code",
            "execution_count": 2,
            "metadata": {},
            "outputs": [],
            "source": "import numpy as np\nimport pandas as pd"
        },
        {
            "cell_type": "markdown",
            "metadata": {},
            "source": "### how to perform simple arithmetic operations"
        },
        {
            "cell_type": "code",
            "execution_count": 3,
            "metadata": {},
            "outputs": [
                {
                    "data": {
                        "text/plain": "31"
                    },
                    "execution_count": 3,
                    "metadata": {},
                    "output_type": "execute_result"
                }
            ],
            "source": "15+16"
        },
        {
            "cell_type": "code",
            "execution_count": 4,
            "metadata": {},
            "outputs": [
                {
                    "data": {
                        "text/plain": "-1"
                    },
                    "execution_count": 4,
                    "metadata": {},
                    "output_type": "execute_result"
                }
            ],
            "source": "15-16"
        },
        {
            "cell_type": "markdown",
            "metadata": {},
            "source": "**Data Science Tools**\n* jupyter notebook\n* Rstudio\n* TensorFlow"
        },
        {
            "cell_type": "markdown",
            "metadata": {},
            "source": "**Programming Languages in Data Science**\n1. Python\n2. SQL\n3. R"
        },
        {
            "cell_type": "markdown",
            "metadata": {},
            "source": "### Creating Table in Markdown"
        },
        {
            "cell_type": "markdown",
            "metadata": {},
            "source": "| Data Science Tools | Programming Languages |\n|-------------------- |----------------------|\n|Jupyter notebook|Python|\n|Rstudio|SQL|\n|TensorFlow|R|"
        },
        {
            "cell_type": "code",
            "execution_count": null,
            "metadata": {},
            "outputs": [],
            "source": ""
        }
    ],
    "metadata": {
        "kernelspec": {
            "display_name": "Python 3.10",
            "language": "python",
            "name": "python3"
        },
        "language_info": {
            "codemirror_mode": {
                "name": "ipython",
                "version": 3
            },
            "file_extension": ".py",
            "mimetype": "text/x-python",
            "name": "python",
            "nbconvert_exporter": "python",
            "pygments_lexer": "ipython3",
            "version": "3.10.9"
        }
    },
    "nbformat": 4,
    "nbformat_minor": 1
}